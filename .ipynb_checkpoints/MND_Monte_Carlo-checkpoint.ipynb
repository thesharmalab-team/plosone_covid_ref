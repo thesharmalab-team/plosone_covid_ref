{
 "cells": [
  {
   "cell_type": "code",
   "execution_count": 4,
   "metadata": {},
   "outputs": [
    {
     "name": "stdout",
     "output_type": "stream",
     "text": [
      "Collecting git+https://github.com/mwaskom/seaborn.git\n",
      "  Cloning https://github.com/mwaskom/seaborn.git to /private/var/folders/hv/gdl4nxv91yb6md991ttss9hr0000gn/T/pip-req-build-475p87m5\n",
      "  Running command git clone -q https://github.com/mwaskom/seaborn.git /private/var/folders/hv/gdl4nxv91yb6md991ttss9hr0000gn/T/pip-req-build-475p87m5\n",
      "Requirement already satisfied: numpy>=1.15 in /Users/Nik/anaconda3/envs/Sharma/lib/python3.6/site-packages (from seaborn==0.11.0.dev0) (1.18.1)\n",
      "Requirement already satisfied: scipy>=1.0 in /Users/Nik/anaconda3/envs/Sharma/lib/python3.6/site-packages (from seaborn==0.11.0.dev0) (1.4.1)\n",
      "Requirement already satisfied: pandas>=0.23 in /Users/Nik/anaconda3/envs/Sharma/lib/python3.6/site-packages (from seaborn==0.11.0.dev0) (1.0.1)\n",
      "Requirement already satisfied: matplotlib>=2.2 in /Users/Nik/anaconda3/envs/Sharma/lib/python3.6/site-packages (from seaborn==0.11.0.dev0) (3.1.3)\n",
      "Requirement already satisfied: pytz>=2017.2 in /Users/Nik/anaconda3/envs/Sharma/lib/python3.6/site-packages (from pandas>=0.23->seaborn==0.11.0.dev0) (2019.3)\n",
      "Requirement already satisfied: python-dateutil>=2.6.1 in /Users/Nik/anaconda3/envs/Sharma/lib/python3.6/site-packages (from pandas>=0.23->seaborn==0.11.0.dev0) (2.8.1)\n",
      "Requirement already satisfied: cycler>=0.10 in /Users/Nik/anaconda3/envs/Sharma/lib/python3.6/site-packages (from matplotlib>=2.2->seaborn==0.11.0.dev0) (0.10.0)\n",
      "Requirement already satisfied: kiwisolver>=1.0.1 in /Users/Nik/anaconda3/envs/Sharma/lib/python3.6/site-packages (from matplotlib>=2.2->seaborn==0.11.0.dev0) (1.1.0)\n",
      "Requirement already satisfied: pyparsing!=2.0.4,!=2.1.2,!=2.1.6,>=2.0.1 in /Users/Nik/anaconda3/envs/Sharma/lib/python3.6/site-packages (from matplotlib>=2.2->seaborn==0.11.0.dev0) (2.4.6)\n",
      "Requirement already satisfied: six>=1.5 in /Users/Nik/anaconda3/envs/Sharma/lib/python3.6/site-packages (from python-dateutil>=2.6.1->pandas>=0.23->seaborn==0.11.0.dev0) (1.14.0)\n",
      "Requirement already satisfied: setuptools in /Users/Nik/anaconda3/envs/Sharma/lib/python3.6/site-packages (from kiwisolver>=1.0.1->matplotlib>=2.2->seaborn==0.11.0.dev0) (45.2.0.post20200210)\n",
      "Building wheels for collected packages: seaborn\n",
      "  Building wheel for seaborn (setup.py) ... \u001b[?25ldone\n",
      "\u001b[?25h  Created wheel for seaborn: filename=seaborn-0.11.0.dev0-py3-none-any.whl size=254967 sha256=1867f7f289c6ea19e30a15a3844c4c1091bbb710857dad8323a3c7e85cf7bc7f\n",
      "  Stored in directory: /private/var/folders/hv/gdl4nxv91yb6md991ttss9hr0000gn/T/pip-ephem-wheel-cache-kb3hl8qq/wheels/c5/a2/d4/9b08fc0ce87cba2fe06828385af0251913ea8b6e9e466119f4\n",
      "Successfully built seaborn\n",
      "Installing collected packages: seaborn\n",
      "Successfully installed seaborn-0.11.0.dev0\n",
      "Note: you may need to restart the kernel to use updated packages.\n"
     ]
    }
   ],
   "source": [
    "pip install git+https://github.com/mwaskom/seaborn.git\n"
   ]
  },
  {
   "cell_type": "code",
   "execution_count": 5,
   "metadata": {},
   "outputs": [
    {
     "data": {
      "image/png": "[encoded data removed]",
      "text/plain": [
       "<Figure size 432x288 with 1 Axes>"
      ]
     },
     "metadata": {},
     "output_type": "display_data"
    },
    {
     "data": {
      "text/plain": [
       "0.690773"
      ]
     },
     "execution_count": 5,
     "metadata": {},
     "output_type": "execute_result"
    }
   ],
   "source": [
    "#Mock up of Monte Carlo simulation to predict MND diagnosis times\n",
    "import pandas as pd\n",
    "import numpy as np\n",
    "import seaborn as sns\n",
    "import matplotlib.pyplot as plt\n",
    "import scipy\n",
    "from scipy.stats import norm\n",
    "from scipy.stats import kstest\n",
    "\n",
    "sns.set_style('whitegrid')\n",
    "\n",
    "#Setting up the distributions for each step. We can change the distribution type, mean and SD. The references\n",
    "#will dictate what the distributions, mean, SD etc are. \n",
    "\n",
    "# uNITS ARE IN DAYS\n",
    "# \n",
    "# Model - direct pathway\n",
    "# Pt -> GP\n",
    "# gp -> neurology clinic\n",
    "# neurology clinic -> investigations\n",
    "# investigations -> neurology clinic (NEEDED?)\n",
    "# neurology -> MND clinic \n",
    "\n",
    "# PRECOVID model\n",
    "gp_waiting_times = norm(loc = 14, scale = 5)\n",
    "gp_to_neuro_referral_time = norm(loc = 180, scale = 30)\n",
    "investigation_times = norm(loc = 90, scale = 30)\n",
    "neuro_to_mnd_consultant_times = norm(loc = 90, scale = 30)\n",
    "\n",
    "# COVID model - best case scenrio\n",
    "gp_waiting_times = norm(loc = 14, scale = 5)\n",
    "gp_to_neuro_referral_time = norm(loc = 180, scale = 30)\n",
    "investigation_times = norm(loc = 90, scale = 30)\n",
    "neuro_to_mnd_consultant_times = norm(loc = 90, scale = 30)\n",
    "\n",
    "# COVID model - worse case scenrio\n",
    "gp_waiting_times = norm(loc = 14, scale = 5)\n",
    "gp_to_neuro_referral_time = norm(loc = 180, scale = 30)\n",
    "investigation_times = norm(loc = 90, scale = 30)\n",
    "neuro_to_mnd_consultant_times = norm(loc = 90, scale = 30)\n",
    "\n",
    "# COVID model - 2nd lock down\n",
    "gp_waiting_times = norm(loc = 14, scale = 5)\n",
    "gp_to_neuro_referral_time = norm(loc = 180, scale = 30)\n",
    "investigation_times = norm(loc = 90, scale = 30)\n",
    "neuro_to_mnd_consultant_times = norm(loc = 90, scale = 30)\n",
    "\n",
    "# clinical phenotypes times and classification from BMJ Open. 2016; 6(9): e012054.\n",
    "#Published online 2016 Sep 30. doi: 10.1136/bmjopen-2016-012054\n",
    "\n",
    "# https://www.tandfonline.com/doi/full/10.1080/21678421.2017.1353098\n",
    "\n",
    "mnd_bulbar = norm(loc = 300, scale = 5)\n",
    "mnd_cervical = norm(loc = 330, scale = 30)\n",
    "mnd_lumbar = norm(loc = 365, scale = 30)\n",
    "mnd_flail_arm = norm(loc = 420, scale = 30)\n",
    "mnd_flail_leg = norm(loc = 540, scale = 30)\n",
    "mnd_pls = norm(loc = 730, scale = 30)\n",
    "\n",
    "\n",
    "# see https://www.ncbi.nlm.nih.gov/pmc/articles/PMC2397016/pdf/umj7701-018.pdf\n",
    "\n",
    "#Number of simulations\n",
    "number_of_simulations = 1000000\n",
    "\n",
    "#This is the Monte Carlo simulation bit\n",
    "gp_waiting_times = gp_waiting_times.rvs(number_of_simulations)\n",
    "gp_to_neuro_referral_time = gp_to_neuro_referral_time.rvs(number_of_simulations)\n",
    "investigation_times = investigation_times.rvs(number_of_simulations)\n",
    "neuro_to_mnd_consultant_times = neuro_to_mnd_consultant_times.rvs(number_of_simulations)\n",
    "\n",
    "#Put it all together in a dataframe\n",
    "data = pd.DataFrame({\n",
    "    \"gp_waiting_times\": gp_waiting_times,\n",
    "    \"gp_to_neuro_referral_time\": gp_to_neuro_referral_time,\n",
    "    \"investigation_times\": investigation_times,\n",
    "    \"neuro_to_mnd_consultant_times\": neuro_to_mnd_consultant_times\n",
    "})\n",
    "\n",
    "#Below is the overall equation for calculating the variable of interest\n",
    "data[\"total_time\"] = (data.gp_waiting_times + data.gp_to_neuro_referral_time + data.investigation_times + data.neuro_to_mnd_consultant_times)\n",
    "\n",
    "#Plotting the overall distribution of times taken to go through the clinical pathway. Note that we can plot each step.\n",
    "plt.hist(data.total_time, bins = 100)\n",
    "plt.axvline(x = 400, c = \"r\")\n",
    "plt.show()\n",
    "\n",
    "#gives probability that someone who goes through this pathway is seen in less than 400 days\n",
    "data[data[\"total_time\"] < 400].count()[\"total_time\"] / 1000000 \n",
    "\n",
    "#NEXT STEPS\n",
    "\n",
    "# Timelines \n",
    "#How to work in the bottleneck/binary steps, such as \"Do I attend the GP?\" and \"Whats the probability that my\n",
    "#makes a referral to the neurologist?\".\n",
    "\n",
    "#One solution is to have a parallel pathway, which deals with the binary (yes,no) nodes. Hence instead of a\n",
    "#distribution of times to reach diagnosis (as above), we will have a distribution of the number of people that\n",
    "#remain in the pathway. We can multiply the \"time to diagnosis\" and \"number of people\" distributions to see what \n",
    "#proportion of people are seen within a certain time. \n",
    "\n",
    "#The problem with the above is that the results are representative of one iteration of going through the cycle. \n",
    "#Patient's who aren't referred by their GP get worse but inevitably go through the cycle again. The model\n",
    "#above doesn't account for these returners. We could account for this by using if statements to simulate these \n",
    "#different scenarios. For example, we have the initial \"Do I go to the GP?\" node represented by a Bernoulli (binary)\n",
    "#distribution with 90% yes and 10% no. In the Monte Carlo simulation, if the simulated person is a 'yes', their \n",
    "#GP waiting time distribution is drawn from the distribution above; if the simulated person is a 'no', then their\n",
    "#GP waiting time is drawn from a 'no' distribution, which has a greater mean than the 'yes' distribution (hence\n",
    "#simulating a longer waiting time). This can be done for all binary and continuous nodes, which might be a better\n",
    "#way to simulate the process."
   ]
  },
  {
   "cell_type": "code",
   "execution_count": null,
   "metadata": {},
   "outputs": [],
   "source": []
  }
 ],
 "metadata": {
  "kernelspec": {
   "display_name": "Python 3",
   "language": "python",
   "name": "python3"
  },
  "language_info": {
   "codemirror_mode": {
    "name": "ipython",
    "version": 3
   },
   "file_extension": ".py",
   "mimetype": "text/x-python",
   "name": "python",
   "nbconvert_exporter": "python",
   "pygments_lexer": "ipython3",
   "version": "3.6.10"
  }
 },
 "nbformat": 4,
 "nbformat_minor": 2
}
