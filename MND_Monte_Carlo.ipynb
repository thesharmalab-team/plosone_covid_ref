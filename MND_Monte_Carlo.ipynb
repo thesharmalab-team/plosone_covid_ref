{
 "cells": [
  {
   "cell_type": "code",
   "execution_count": 2,
   "metadata": {},
   "outputs": [
    {
     "data": {
      "image/png": "[encoded data removed]",
      "text/plain": [
       "<Figure size 432x288 with 1 Axes>"
      ]
     },
     "metadata": {},
     "output_type": "display_data"
    },
    {
     "data": {
      "text/plain": [
       "0.690439"
      ]
     },
     "execution_count": 2,
     "metadata": {},
     "output_type": "execute_result"
    }
   ],
   "source": [
    "#Mock up of Monte Carlo simulation to predict MND diagnosis times\n",
    "\n",
    "import pandas as pd\n",
    "import numpy as np\n",
    "import seaborn as sns\n",
    "import matplotlib.pyplot as plt\n",
    "import scipy\n",
    "from scipy.stats import norm\n",
    "from scipy.stats import kstest\n",
    "\n",
    "sns.set_style('whitegrid')\n",
    "\n",
    "#Setting up the distributions for each step. We can change the distribution type, mean and SD. The references\n",
    "#will dictate what the distributions, mean, SD etc are. \n",
    "gp_waiting_times = norm(loc = 14, scale = 5)\n",
    "gp_to_neuro_referral_time = norm(loc = 180, scale = 30)\n",
    "investigation_times = norm(loc = 90, scale = 30)\n",
    "neuro_to_mnd_consultant_times = norm(loc = 90, scale = 30)\n",
    "\n",
    "#Number of simulations\n",
    "number_of_simulations = 1000000\n",
    "\n",
    "#This is the Monte Carlo simulation bit\n",
    "gp_waiting_times = gp_waiting_times.rvs(number_of_simulations)\n",
    "gp_to_neuro_referral_time = gp_to_neuro_referral_time.rvs(number_of_simulations)\n",
    "investigation_times = investigation_times.rvs(number_of_simulations)\n",
    "neuro_to_mnd_consultant_times = neuro_to_mnd_consultant_times.rvs(number_of_simulations)\n",
    "\n",
    "#Put it all together in a dataframe\n",
    "data = pd.DataFrame({\n",
    "    \"gp_waiting_times\": gp_waiting_times,\n",
    "    \"gp_to_neuro_referral_time\": gp_to_neuro_referral_time,\n",
    "    \"investigation_times\": investigation_times,\n",
    "    \"neuro_to_mnd_consultant_times\": neuro_to_mnd_consultant_times\n",
    "})\n",
    "\n",
    "#Below is the overall equation for calculating the variable of interest\n",
    "data[\"total_time\"] = (data.gp_waiting_times + data.gp_to_neuro_referral_time + data.investigation_times + data.neuro_to_mnd_consultant_times)\n",
    "\n",
    "#Plotting the overall distribution of times taken to go through the clinical pathway. Note that we can plot each step.\n",
    "plt.hist(data.total_time, bins = 100)\n",
    "plt.axvline(x = 400, c = \"r\")\n",
    "plt.show()\n",
    "\n",
    "#gives probability that someone who goes through this pathway is seen in less than 400 days\n",
    "data[data[\"total_time\"] < 400].count()[\"total_time\"] / 1000000 \n",
    "\n",
    "#NEXT STEPS\n",
    "#How to work in the bottleneck/binary steps, such as \"Do I attend the GP?\" and \"Whats the probability that my\n",
    "#makes a referral to the neurologist?\".\n",
    "\n",
    "#One solution is to have a parallel pathway, which deals with the binary (yes,no) nodes. Hence instead of a\n",
    "#distribution of times to reach diagnosis (as above), we will have a distribution of the number of people that\n",
    "#remain in the pathway. We can multiply the \"time to diagnosis\" and \"number of people\" distributions to see what \n",
    "#proportion of people are seen within a certain time. \n",
    "\n",
    "#The problem with the above is that the results are representative of one iteration of going through the cycle. \n",
    "#Patient's who aren't referred by their GP get worse but inevitably go through the cycle again. The model\n",
    "#above doesn't account for these returners. We could account for this by using if statements to simulate these \n",
    "#different scenarios. For example, we have the initial \"Do I go to the GP?\" node represented by a Bernoulli (binary)\n",
    "#distribution with 90% yes and 10% no. In the Monte Carlo simulation, if the simulated person is a 'yes', their \n",
    "#GP waiting time distribution is drawn from the distribution above; if the simulated person is a 'no', then their\n",
    "#GP waiting time is drawn from a 'no' distribution, which has a greater mean than the 'yes' distribution (hence\n",
    "#simulating a longer waiting time). This can be done for all binary and continuous nodes, which might be a better\n",
    "#way to simulate the process."
   ]
  },
  {
   "cell_type": "code",
   "execution_count": null,
   "metadata": {},
   "outputs": [],
   "source": []
  }
 ],
 "metadata": {
  "kernelspec": {
   "display_name": "Python 3",
   "language": "python",
   "name": "python3"
  },
  "language_info": {
   "codemirror_mode": {
    "name": "ipython",
    "version": 3
   },
   "file_extension": ".py",
   "mimetype": "text/x-python",
   "name": "python",
   "nbconvert_exporter": "python",
   "pygments_lexer": "ipython3",
   "version": "3.7.4"
  }
 },
 "nbformat": 4,
 "nbformat_minor": 2
}
