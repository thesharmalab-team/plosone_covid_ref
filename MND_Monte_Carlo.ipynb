{
 "cells": [
  {
   "cell_type": "code",
   "execution_count": 1,
   "metadata": {},
   "outputs": [
    {
     "name": "stdout",
     "output_type": "stream",
     "text": [
      "Collecting git+https://github.com/mwaskom/seaborn.git\n",
      "  Cloning https://github.com/mwaskom/seaborn.git to /private/var/folders/tz/vjwk136j1mg9xs5sw7m71s8m0000gn/T/pip-req-build-afs1gqxy\n",
      "  Running command git clone -q https://github.com/mwaskom/seaborn.git /private/var/folders/tz/vjwk136j1mg9xs5sw7m71s8m0000gn/T/pip-req-build-afs1gqxy\n",
      "Requirement already satisfied: numpy>=1.15 in /opt/anaconda3/lib/python3.7/site-packages (from seaborn==0.11.0.dev0) (1.17.2)\n",
      "Requirement already satisfied: scipy>=1.0 in /opt/anaconda3/lib/python3.7/site-packages (from seaborn==0.11.0.dev0) (1.3.1)\n",
      "Requirement already satisfied: pandas>=0.23 in /opt/anaconda3/lib/python3.7/site-packages (from seaborn==0.11.0.dev0) (0.25.1)\n",
      "Requirement already satisfied: matplotlib>=2.2 in /opt/anaconda3/lib/python3.7/site-packages (from seaborn==0.11.0.dev0) (3.1.1)\n",
      "Requirement already satisfied: pytz>=2017.2 in /opt/anaconda3/lib/python3.7/site-packages (from pandas>=0.23->seaborn==0.11.0.dev0) (2019.3)\n",
      "Requirement already satisfied: python-dateutil>=2.6.1 in /opt/anaconda3/lib/python3.7/site-packages (from pandas>=0.23->seaborn==0.11.0.dev0) (2.8.0)\n",
      "Requirement already satisfied: cycler>=0.10 in /opt/anaconda3/lib/python3.7/site-packages (from matplotlib>=2.2->seaborn==0.11.0.dev0) (0.10.0)\n",
      "Requirement already satisfied: kiwisolver>=1.0.1 in /opt/anaconda3/lib/python3.7/site-packages (from matplotlib>=2.2->seaborn==0.11.0.dev0) (1.1.0)\n",
      "Requirement already satisfied: pyparsing!=2.0.4,!=2.1.2,!=2.1.6,>=2.0.1 in /opt/anaconda3/lib/python3.7/site-packages (from matplotlib>=2.2->seaborn==0.11.0.dev0) (2.4.2)\n",
      "Requirement already satisfied: six>=1.5 in /opt/anaconda3/lib/python3.7/site-packages (from python-dateutil>=2.6.1->pandas>=0.23->seaborn==0.11.0.dev0) (1.12.0)\n",
      "Requirement already satisfied: setuptools in /opt/anaconda3/lib/python3.7/site-packages (from kiwisolver>=1.0.1->matplotlib>=2.2->seaborn==0.11.0.dev0) (41.4.0)\n",
      "Building wheels for collected packages: seaborn\n",
      "  Building wheel for seaborn (setup.py) ... \u001b[?25ldone\n",
      "\u001b[?25h  Created wheel for seaborn: filename=seaborn-0.11.0.dev0-cp37-none-any.whl size=254818 sha256=df06752c98998d80596dab182e198bac31d1bdf1f81276af253abcc56d5daff4\n",
      "  Stored in directory: /private/var/folders/tz/vjwk136j1mg9xs5sw7m71s8m0000gn/T/pip-ephem-wheel-cache-8v5gu7_g/wheels/4e/57/af/138c7bf2390a67f7010588cf080fb8b4e741bb290c2ad12018\n",
      "Successfully built seaborn\n",
      "Installing collected packages: seaborn\n",
      "  Found existing installation: seaborn 0.9.0\n",
      "    Uninstalling seaborn-0.9.0:\n",
      "      Successfully uninstalled seaborn-0.9.0\n",
      "Successfully installed seaborn-0.11.0.dev0\n",
      "Note: you may need to restart the kernel to use updated packages.\n"
     ]
    }
   ],
   "source": [
    "pip install git+https://github.com/mwaskom/seaborn.git\n"
   ]
  },
  {
   "cell_type": "code",
   "execution_count": 129,
   "metadata": {},
   "outputs": [
    {
     "data": {
      "image/png": "[encoded data removed]",
      "text/plain": [
       "<Figure size 432x288 with 1 Axes>"
      ]
     },
     "metadata": {},
     "output_type": "display_data"
    },
    {
     "name": "stdout",
     "output_type": "stream",
     "text": [
      "0.83411\n"
     ]
    }
   ],
   "source": [
    "#Mock up of Monte Carlo simulation to predict MND diagnosis times\n",
    "import pandas as pd\n",
    "import numpy as np\n",
    "import seaborn as sns\n",
    "import matplotlib.pyplot as plt\n",
    "import scipy\n",
    "from scipy.stats import norm\n",
    "from scipy.stats import gamma\n",
    "from scipy.stats import kstest\n",
    "\n",
    "sns.set_style('whitegrid')\n",
    "\n",
    "def pathway_simulation(s2gp, gp2neuro, neuro2diagnosis, nsim, threshold):\n",
    "    '''\n",
    "    #Setting up the distributions for each step. We can change the distribution type, mean and SD. The references\n",
    "#will dictate what the distributions, mean, SD etc are. \n",
    "\n",
    "# UNITS ARE IN DAYS\n",
    "\n",
    "    Args:\n",
    "        s2gp (1x2 array): mean and SD of time taken from symptom onset to presentation to first medical contact\n",
    "        gp2neuro (1x2 array): mean and SD of time taken from gp to neurology appointment\n",
    "        neuro2diagnosis (1x2 array): mean and SD of time taken from neurology appointment to diagnosis\n",
    "        nsim (scalar): number of simulation in Monte Carlo simulation\n",
    "        Threshold (scalar): proportion of people are seen in 'threshold' amount of time\n",
    "\n",
    "    '''\n",
    "    # PRECOVID model NEED TO ADJUST THESE AND RENAME\n",
    "    # Figures from https://www.jns-journal.com/action/showPdf?pii=S0022-510X%2820%2930391-9\n",
    "    # Based on 64 patients in Barts in 2000\n",
    "    symptom_to_gp = gamma(1, loc = s2gp[0], scale = s2gp[1]) \n",
    "    gp_to_neuro = gamma(1, loc = gp2neuro[0], scale = gp2neuro[1])\n",
    "    neuro_to_diagnosis = gamma(1, loc = neuro2diagnosis[0], scale = neuro2diagnosis[1])\n",
    "\n",
    "    #Number of simulations\n",
    "    number_of_simulations = nsim\n",
    "\n",
    "    #This is the Monte Carlo simulation bit\n",
    "    symptom_to_gp_times = symptom_to_gp.rvs(number_of_simulations)\n",
    "    gp_to_neuro_times = gp_to_neuro.rvs(number_of_simulations)\n",
    "    neuro_to_diagnosis_times = neuro_to_diagnosis.rvs(number_of_simulations)\n",
    "\n",
    "    #Put it all together in a dataframe\n",
    "    data = pd.DataFrame({\n",
    "        \"symptom_to_gp_times\": symptom_to_gp_times,\n",
    "        \"gp_to_neuro_times\": gp_to_neuro_times,\n",
    "        \"neuro_to_diagnosis_times\": neuro_to_diagnosis_times\n",
    "    })\n",
    "\n",
    "    #Below is the overall equation for calculating the variable of interest\n",
    "    data[\"total_time\"] = data.symptom_to_gp_times + data.gp_to_neuro_times + data.neuro_to_diagnosis_times\n",
    "\n",
    "    #Plotting the overall distribution of times taken to go through the clinical pathway. Note that we can plot each step.\n",
    "    plt.hist(data.total_time, bins = 100)\n",
    "    plt.show()\n",
    "\n",
    "    #gives probability that someone who goes through this pathway is seen in less than 400 days\n",
    "    print(data[data[\"total_time\"] < threshold].count()[\"total_time\"] / nsim)\n",
    "\n",
    "    return\n",
    "\n",
    "peacetime = pathway_simulation([90,30], [180,60],[60,20], nsim = 100000, threshold = 500)"
   ]
  },
  {
   "cell_type": "code",
   "execution_count": 130,
   "metadata": {},
   "outputs": [
    {
     "data": {
      "image/png": "[encoded data removed]",
      "text/plain": [
       "<Figure size 432x288 with 1 Axes>"
      ]
     },
     "metadata": {},
     "output_type": "display_data"
    },
    {
     "name": "stdout",
     "output_type": "stream",
     "text": [
      "0.66592\n"
     ]
    }
   ],
   "source": [
    "# COVID model\n",
    "# Just run function and insert values for mean and SD of each step.\n",
    "# No need for best and worst case scenario; plugging in the numbers should give us a probability distribution during\n",
    "# COVID and looking at the distribution of times should tell us the best and worse case scenarios.\n",
    "covid = pathway_simulation([120,30], [240,20],[60,20], nsim = 100000, threshold = 500)\n",
    "\n",
    "# COVID model - 2nd lock down\n",
    "# This is a bit trickier to define. What does a second lockdown mean? How do we factor in a backlog of patients?\n",
    "\n",
    "# clinical phenotypes times and classification from BMJ Open. 2016; 6(9): e012054.\n",
    "#Published online 2016 Sep 30. doi: 10.1136/bmjopen-2016-012054\n",
    "\n",
    "# https://www.tandfonline.com/doi/full/10.1080/21678421.2017.1353098\n",
    "\n",
    "#mnd_bulbar = gamma(loc = 300, scale = 5) # NEED TO ADJUST BUT IMPORTANT THAT ITS GAMMA \n",
    "#mnd_cervical = gamma(loc = 330, scale = 30)\n",
    "#mnd_lumbar = gamma(loc = 365, scale = 30)\n",
    "#mnd_flail_arm = gamma(loc = 420, scale = 30)\n",
    "#mnd_flail_leg = gamma(loc = 540, scale = 30)\n",
    "#mnd_pls = gamma(loc = 730, scale = 30)\n",
    "\n",
    "\n",
    "# see https://www.ncbi.nlm.nih.gov/pmc/articles/PMC2397016/pdf/umj7701-018.pdf"
   ]
  },
  {
   "cell_type": "code",
   "execution_count": 106,
   "metadata": {},
   "outputs": [
    {
     "ename": "TypeError",
     "evalue": "'module' object is not callable",
     "output_type": "error",
     "traceback": [
      "\u001b[0;31m---------------------------------------------------------------------------\u001b[0m",
      "\u001b[0;31mTypeError\u001b[0m                                 Traceback (most recent call last)",
      "\u001b[0;32m<ipython-input-106-6823cb3f8072>\u001b[0m in \u001b[0;36m<module>\u001b[0;34m\u001b[0m\n\u001b[1;32m      1\u001b[0m \u001b[0;31m# https://www.england.nhs.uk/rightcare/wp-content/uploads/sites/40/2019/08/progressive-neuro-toolkit.pdf\u001b[0m\u001b[0;34m\u001b[0m\u001b[0;34m\u001b[0m\u001b[0;34m\u001b[0m\u001b[0m\n\u001b[1;32m      2\u001b[0m \u001b[0;31m# Target: appointments within 4 weeks of referral to a neurologist\u001b[0m\u001b[0;34m\u001b[0m\u001b[0;34m\u001b[0m\u001b[0;34m\u001b[0m\u001b[0m\n\u001b[0;32m----> 3\u001b[0;31m \u001b[0mplt\u001b[0m\u001b[0;34m(\u001b[0m\u001b[0mpeacetime\u001b[0m\u001b[0;34m)\u001b[0m\u001b[0;34m\u001b[0m\u001b[0;34m\u001b[0m\u001b[0m\n\u001b[0m",
      "\u001b[0;31mTypeError\u001b[0m: 'module' object is not callable"
     ]
    }
   ],
   "source": [
    "# https://www.england.nhs.uk/rightcare/wp-content/uploads/sites/40/2019/08/progressive-neuro-toolkit.pdf\n",
    "# Target: appointments within 4 weeks of referral to a neurologist"
   ]
  },
  {
   "cell_type": "code",
   "execution_count": null,
   "metadata": {},
   "outputs": [],
   "source": [
    "#NEXT STEPS\n",
    "\n",
    "# Timelines \n",
    "#How to work in the bottleneck/binary steps, such as \"Do I attend the GP?\" and \"Whats the probability that my\n",
    "#makes a referral to the neurologist?\".\n",
    "\n",
    "#One solution is to have a parallel pathway, which deals with the binary (yes,no) nodes. Hence instead of a\n",
    "#distribution of times to reach diagnosis (as above), we will have a distribution of the number of people that\n",
    "#remain in the pathway. We can multiply the \"time to diagnosis\" and \"number of people\" distributions to see what \n",
    "#proportion of people are seen within a certain time. \n",
    "\n",
    "#The problem with the above is that the results are representative of one iteration of going through the cycle. \n",
    "#Patient's who aren't referred by their GP get worse but inevitably go through the cycle again. The model\n",
    "#above doesn't account for these returners. We could account for this by using if statements to simulate these \n",
    "#different scenarios. For example, we have the initial \"Do I go to the GP?\" node represented by a Bernoulli (binary)\n",
    "#distribution with 90% yes and 10% no. In the Monte Carlo simulation, if the simulated person is a 'yes', their \n",
    "#GP waiting time distribution is drawn from the distribution above; if the simulated person is a 'no', then their\n",
    "#GP waiting time is drawn from a 'no' distribution, which has a greater mean than the 'yes' distribution (hence\n",
    "#simulating a longer waiting time). This can be done for all binary and continuous nodes, which might be a better\n",
    "#way to simulate the process."
   ]
  }
 ],
 "metadata": {
  "kernelspec": {
   "display_name": "Python 3",
   "language": "python",
   "name": "python3"
  },
  "language_info": {
   "codemirror_mode": {
    "name": "ipython",
    "version": 3
   },
   "file_extension": ".py",
   "mimetype": "text/x-python",
   "name": "python",
   "nbconvert_exporter": "python",
   "pygments_lexer": "ipython3",
   "version": "3.7.4"
  }
 },
 "nbformat": 4,
 "nbformat_minor": 2
}
